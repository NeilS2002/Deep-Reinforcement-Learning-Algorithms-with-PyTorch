{
 "cells": [
  {
   "cell_type": "code",
   "execution_count": 1,
   "id": "a8087ae4-006f-49a2-a4bb-8acf41ef5659",
   "metadata": {},
   "outputs": [],
   "source": [
    "import os \n",
    "import sys\n",
    "from os.path import dirname, abspath\n",
    "sys.path.append(dirname(dirname(abspath(\"Users\\innsu\\Documents\\Deep-Reinforcement-Learning-Algorithms-with-PyTorch\"))))\n",
    "\n",
    "import gym\n",
    "\n",
    "from agents.policy_gradient_agents.PPO import PPO\n",
    "from agents.DQN_agents.DQN import DQN\n",
    "from agents.Trainer import Trainer\n",
    "from utilities.data_structures.Config import Config\n"
   ]
  },
  {
   "cell_type": "code",
   "execution_count": 2,
   "id": "ab71652f-6e98-472c-b7e4-53ea66f034ae",
   "metadata": {},
   "outputs": [
    {
     "name": "stderr",
     "output_type": "stream",
     "text": [
      "C:\\Users\\innsu\\anaconda3\\envs\\RL\\lib\\site-packages\\gym\\envs\\registration.py:505: UserWarning: \u001b[33mWARN: The environment CartPole-v0 is out of date. You should consider upgrading to version `v1` with the environment ID `CartPole-v1`.\u001b[0m\n",
      "  logger.warn(\n"
     ]
    }
   ],
   "source": [
    "#Training Configuration\n",
    "config = Config()\n",
    "config.seed = 1\n",
    "config.environment = gym.make(\"CartPole-v0\")\n",
    "config.num_episodes_to_run = 50\n",
    "config.file_to_save_data_results = \"results/data_and_graphs/CartpoleDQNandPG_Data.pk1\"\n",
    "config.file_to_save_results_graph = \"results/data_and_graphs/CartpoleDQNandPG_Graph.png\"\n",
    "config.show_solution_score = False\n",
    "config.visualise_individual_results = True\n",
    "config.visualise_overall_agent_results = True\n",
    "config.standard_deviation_results = 1.0\n",
    "config.runs_per_agent = 1\n",
    "config.use_GPU = False\n",
    "config.overwrite_existing_results_file = False\n",
    "config.randomise_random_seed = False\n",
    "config.save_model = True"
   ]
  },
  {
   "cell_type": "code",
   "execution_count": 3,
   "id": "ee141251-cc39-452a-9b48-ade45a30fa77",
   "metadata": {},
   "outputs": [
    {
     "name": "stdout",
     "output_type": "stream",
     "text": [
      "AGENT NAME: DQN\n",
      "\u001b[1m1.1: DQN\u001b[0m\n",
      "TITLE  CartPole\n",
      "layer info  [30, 15, 2]\n",
      "layer info  [30, 15, 2]\n",
      "{'learning_rate': 0.01, 'batch_size': 256, 'buffer_size': 40000, 'epsilon': 1.0, 'epsilon_decay_rate_denominator': 1, 'discount_rate': 0.99, 'tau': 0.01, 'alpha_prioritised_replay': 0.6, 'beta_prioritised_replay': 0.1, 'incremental_td_error': 1e-08, 'update_every_n_steps': 1, 'linear_hidden_units': [30, 15], 'final_layer_activation': 'None', 'batch_norm': False, 'gradient_clipping_norm': 0.7, 'learning_iterations': 1, 'clip_rewards': False, 'output_activation': None, 'hidden_activations': 'relu', 'dropout': 0.0, 'initialiser': 'default', 'columns_of_data_to_be_embedded': [], 'embedding_dimensions': [], 'y_range': ()}\n",
      "RANDOM SEED  1\n",
      " Episode 50, Score:  122.00, Max score seen:  139.00, Rolling score:  26.28, Max rolling score seen: -inf\"\"\"\"\"\"\"\"\"\"\"\"\"\"\"\"\"\"\"\"\"\"\"\"\"\"\"\"\"\"\"\"\"\"\"\"\"\"\"\"\"\"\"\"\"\" \n",
      "\u001b[91m\u001b[1mDQN did not achieve required score \n",
      "\u001b[0m\u001b[0m\n",
      "Time taken: 15.508484125137329\n",
      "-----------------------------------------------------------------------------------\n",
      "-----------------------------------------------------------------------------------\n",
      " \n"
     ]
    },
    {
     "data": {
      "image/png": "[encoded data removed]",
      "text/plain": [
       "<Figure size 432x288 with 1 Axes>"
      ]
     },
     "metadata": {
      "needs_background": "light"
     },
     "output_type": "display_data"
    },
    {
     "name": "stdout",
     "output_type": "stream",
     "text": [
      "AGENT NAME: PPO\n",
      "\u001b[1m2.1: PPO\u001b[0m\n",
      "TITLE  CartPole\n",
      "layer info  [20, 20, 2]\n",
      "layer info  [20, 20, 2]\n",
      "layer info  [20, 20, 2]\n",
      "layer info  [20, 20, 2]\n",
      "{'learning_rate': 0.05, 'linear_hidden_units': [20, 20], 'final_layer_activation': 'SOFTMAX', 'learning_iterations_per_round': 5, 'discount_rate': 0.99, 'batch_norm': False, 'clip_epsilon': 0.1, 'episodes_per_learning_round': 4, 'normalise_rewards': True, 'gradient_clipping_norm': 7.0, 'mu': 0.0, 'theta': 0.0, 'sigma': 0.0, 'epsilon_decay_rate_denominator': 1.0, 'clip_rewards': False, 'output_activation': None, 'hidden_activations': 'relu', 'dropout': 0.0, 'initialiser': 'default', 'columns_of_data_to_be_embedded': [], 'embedding_dimensions': [], 'y_range': ()}\n",
      "RANDOM SEED  1\n",
      " Episode 52, Score:  96.00, Max score seen:  127.00, Rolling score:  48.33, Max rolling score seen: -inff\"\"\"\"\"\"\"\"\" \n",
      "\u001b[91m\u001b[1mPPO did not achieve required score \n",
      "\u001b[0m\u001b[0m\n"
     ]
    },
    {
     "ename": "TypeError",
     "evalue": "locally_save_policy() takes 0 positional arguments but 1 was given",
     "output_type": "error",
     "traceback": [
      "\u001b[1;31m---------------------------------------------------------------------------\u001b[0m",
      "\u001b[1;31mTypeError\u001b[0m                                 Traceback (most recent call last)",
      "Input \u001b[1;32mIn [3]\u001b[0m, in \u001b[0;36m<cell line: 42>\u001b[1;34m()\u001b[0m\n\u001b[0;32m     43\u001b[0m AGENTS \u001b[38;5;241m=\u001b[39m [DQN, PPO]\n\u001b[0;32m     44\u001b[0m trainer \u001b[38;5;241m=\u001b[39m Trainer(config, AGENTS)\n\u001b[1;32m---> 45\u001b[0m \u001b[43mtrainer\u001b[49m\u001b[38;5;241;43m.\u001b[39;49m\u001b[43mrun_games_for_agents\u001b[49m\u001b[43m(\u001b[49m\u001b[43m)\u001b[49m\n",
      "File \u001b[1;32m~\\Documents\\Deep-Reinforcement-Learning-Algorithms-with-PyTorch\\agents\\Trainer.py:79\u001b[0m, in \u001b[0;36mTrainer.run_games_for_agents\u001b[1;34m(self)\u001b[0m\n\u001b[0;32m     77\u001b[0m \u001b[38;5;28;01mfor\u001b[39;00m agent_number, agent_class \u001b[38;5;129;01min\u001b[39;00m \u001b[38;5;28menumerate\u001b[39m(\u001b[38;5;28mself\u001b[39m\u001b[38;5;241m.\u001b[39magents):\n\u001b[0;32m     78\u001b[0m     agent_name \u001b[38;5;241m=\u001b[39m agent_class\u001b[38;5;241m.\u001b[39magent_name\n\u001b[1;32m---> 79\u001b[0m     \u001b[38;5;28;43mself\u001b[39;49m\u001b[38;5;241;43m.\u001b[39;49m\u001b[43mrun_games_for_agent\u001b[49m\u001b[43m(\u001b[49m\u001b[43magent_number\u001b[49m\u001b[43m \u001b[49m\u001b[38;5;241;43m+\u001b[39;49m\u001b[43m \u001b[49m\u001b[38;5;241;43m1\u001b[39;49m\u001b[43m,\u001b[49m\u001b[43m \u001b[49m\u001b[43magent_class\u001b[49m\u001b[43m)\u001b[49m\n\u001b[0;32m     80\u001b[0m     \u001b[38;5;28;01mif\u001b[39;00m \u001b[38;5;28mself\u001b[39m\u001b[38;5;241m.\u001b[39mconfig\u001b[38;5;241m.\u001b[39mvisualise_overall_agent_results:\n\u001b[0;32m     81\u001b[0m         agent_rolling_score_results \u001b[38;5;241m=\u001b[39m [results[\u001b[38;5;241m1\u001b[39m] \u001b[38;5;28;01mfor\u001b[39;00m results \u001b[38;5;129;01min\u001b[39;00m  \u001b[38;5;28mself\u001b[39m\u001b[38;5;241m.\u001b[39mresults[agent_name]]\n",
      "File \u001b[1;32m~\\Documents\\Deep-Reinforcement-Learning-Algorithms-with-PyTorch\\agents\\Trainer.py:117\u001b[0m, in \u001b[0;36mTrainer.run_games_for_agent\u001b[1;34m(self, agent_number, agent_class)\u001b[0m\n\u001b[0;32m    115\u001b[0m \u001b[38;5;28mprint\u001b[39m(agent\u001b[38;5;241m.\u001b[39mhyperparameters)\n\u001b[0;32m    116\u001b[0m \u001b[38;5;28mprint\u001b[39m(\u001b[38;5;124m\"\u001b[39m\u001b[38;5;124mRANDOM SEED \u001b[39m\u001b[38;5;124m\"\u001b[39m , agent_config\u001b[38;5;241m.\u001b[39mseed)\n\u001b[1;32m--> 117\u001b[0m game_scores, rolling_scores, time_taken \u001b[38;5;241m=\u001b[39m \u001b[43magent\u001b[49m\u001b[38;5;241;43m.\u001b[39;49m\u001b[43mrun_n_episodes\u001b[49m\u001b[43m(\u001b[49m\u001b[43m)\u001b[49m\n\u001b[0;32m    118\u001b[0m \u001b[38;5;28mprint\u001b[39m(\u001b[38;5;124m\"\u001b[39m\u001b[38;5;124mTime taken: \u001b[39m\u001b[38;5;132;01m{}\u001b[39;00m\u001b[38;5;124m\"\u001b[39m\u001b[38;5;241m.\u001b[39mformat(time_taken), flush\u001b[38;5;241m=\u001b[39m\u001b[38;5;28;01mTrue\u001b[39;00m)\n\u001b[0;32m    119\u001b[0m \u001b[38;5;28mself\u001b[39m\u001b[38;5;241m.\u001b[39mprint_two_empty_lines()\n",
      "File \u001b[1;32m~\\Documents\\Deep-Reinforcement-Learning-Algorithms-with-PyTorch\\agents\\Base_Agent.py:196\u001b[0m, in \u001b[0;36mBase_Agent.run_n_episodes\u001b[1;34m(self, num_episodes, show_whether_achieved_goal, save_and_print_results)\u001b[0m\n\u001b[0;32m    194\u001b[0m time_taken \u001b[38;5;241m=\u001b[39m time\u001b[38;5;241m.\u001b[39mtime() \u001b[38;5;241m-\u001b[39m start\n\u001b[0;32m    195\u001b[0m \u001b[38;5;28;01mif\u001b[39;00m show_whether_achieved_goal: \u001b[38;5;28mself\u001b[39m\u001b[38;5;241m.\u001b[39mshow_whether_achieved_goal()\n\u001b[1;32m--> 196\u001b[0m \u001b[38;5;28;01mif\u001b[39;00m \u001b[38;5;28mself\u001b[39m\u001b[38;5;241m.\u001b[39mconfig\u001b[38;5;241m.\u001b[39msave_model: \u001b[38;5;28;43mself\u001b[39;49m\u001b[38;5;241;43m.\u001b[39;49m\u001b[43mlocally_save_policy\u001b[49m\u001b[43m(\u001b[49m\u001b[43m)\u001b[49m\n\u001b[0;32m    197\u001b[0m \u001b[38;5;28;01mreturn\u001b[39;00m \u001b[38;5;28mself\u001b[39m\u001b[38;5;241m.\u001b[39mgame_full_episode_scores, \u001b[38;5;28mself\u001b[39m\u001b[38;5;241m.\u001b[39mrolling_results, time_taken\n",
      "\u001b[1;31mTypeError\u001b[0m: locally_save_policy() takes 0 positional arguments but 1 was given"
     ]
    },
    {
     "data": {
      "image/png": "[encoded data removed]",
      "text/plain": [
       "<Figure size 432x288 with 1 Axes>"
      ]
     },
     "metadata": {
      "needs_background": "light"
     },
     "output_type": "display_data"
    }
   ],
   "source": [
    "#Model Configuration\n",
    "config.hyperparameters = {\n",
    "    \"DQN_Agents\": {\n",
    "         \"learning_rate\": 0.01,\n",
    "        \"batch_size\": 256,\n",
    "        \"buffer_size\": 40000,\n",
    "        \"epsilon\": 1.0,\n",
    "        \"epsilon_decay_rate_denominator\": 1,\n",
    "        \"discount_rate\": 0.99,\n",
    "        \"tau\": 0.01,\n",
    "        \"alpha_prioritised_replay\": 0.6,\n",
    "        \"beta_prioritised_replay\": 0.1,\n",
    "        \"incremental_td_error\": 1e-8,\n",
    "        \"update_every_n_steps\": 1,\n",
    "        \"linear_hidden_units\": [30, 15],\n",
    "        \"final_layer_activation\": \"None\",\n",
    "        \"batch_norm\": False,\n",
    "        \"gradient_clipping_norm\": 0.7,\n",
    "        \"learning_iterations\": 1,\n",
    "        \"clip_rewards\": False\n",
    "    },\n",
    "        \"Policy_Gradient_Agents\": {\n",
    "        \"learning_rate\": 0.05,\n",
    "        \"linear_hidden_units\": [20, 20],\n",
    "        \"final_layer_activation\": \"SOFTMAX\",\n",
    "        \"learning_iterations_per_round\": 5,\n",
    "        \"discount_rate\": 0.99,\n",
    "        \"batch_norm\": False,\n",
    "        \"clip_epsilon\": 0.1,\n",
    "        \"episodes_per_learning_round\": 4,\n",
    "        \"normalise_rewards\": True,\n",
    "        \"gradient_clipping_norm\": 7.0,\n",
    "        \"mu\": 0.0, #only required for continuous action games\n",
    "        \"theta\": 0.0, #only required for continuous action games\n",
    "        \"sigma\": 0.0, #only required for continuous action games\n",
    "        \"epsilon_decay_rate_denominator\": 1.0,\n",
    "        \"clip_rewards\": False\n",
    "    },\n",
    "    \n",
    "}\n",
    "\n",
    "if __name__ == \"__main__\":\n",
    "    AGENTS = [DQN, PPO]\n",
    "    trainer = Trainer(config, AGENTS)\n",
    "    trainer.run_games_for_agents()"
   ]
  },
  {
   "cell_type": "code",
   "execution_count": null,
   "id": "077bbca4-9fe5-41ec-902b-7acb749919e2",
   "metadata": {},
   "outputs": [],
   "source": []
  },
  {
   "cell_type": "code",
   "execution_count": null,
   "id": "75f268dd-5256-4b6e-ad09-0c252b9f56a0",
   "metadata": {},
   "outputs": [],
   "source": []
  }
 ],
 "metadata": {
  "kernelspec": {
   "display_name": "Python 3 (ipykernel)",
   "language": "python",
   "name": "python3"
  },
  "language_info": {
   "codemirror_mode": {
    "name": "ipython",
    "version": 3
   },
   "file_extension": ".py",
   "mimetype": "text/x-python",
   "name": "python",
   "nbconvert_exporter": "python",
   "pygments_lexer": "ipython3",
   "version": "3.9.7"
  }
 },
 "nbformat": 4,
 "nbformat_minor": 5
}
